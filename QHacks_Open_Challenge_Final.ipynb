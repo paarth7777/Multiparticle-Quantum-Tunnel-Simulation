{
 "cells": [
  {
   "cell_type": "markdown",
   "id": "9c7a169a-5b8a-457c-a872-a0a1735addd2",
   "metadata": {},
   "source": [
    "# Quantum Tunnelling in Nuclear Fusion"
   ]
  },
  {
   "cell_type": "markdown",
   "id": "beb18303-ec2d-455a-b714-026e3ca35e7d",
   "metadata": {},
   "source": [
    "## Quantum Circuit as described in the attached PDF"
   ]
  },
  {
   "cell_type": "markdown",
   "id": "5234dd85-facf-4bbe-949d-1fb55bbb4573",
   "metadata": {},
   "source": [
    "### Imports"
   ]
  },
  {
   "cell_type": "code",
   "execution_count": 12,
   "id": "4ab470ee-395f-4a15-94b6-8bd2c46505cd",
   "metadata": {},
   "outputs": [],
   "source": [
    "import pennylane as qml\n",
    "import numpy as np"
   ]
  },
  {
   "cell_type": "markdown",
   "id": "3d0f0683-50d9-4a66-bfe8-16fd7e47e9a3",
   "metadata": {},
   "source": [
    "### Setup \n",
    "Defining constants, device initialization and implementing a generalized controlled unitary gate"
   ]
  },
  {
   "cell_type": "code",
   "execution_count": 13,
   "id": "fa83c6be-97a1-4686-af5c-d1293f527f52",
   "metadata": {},
   "outputs": [],
   "source": [
    "num_qubits = 3 # For a single particle\n",
    "\n",
    "# Initialize a device\n",
    "dev = qml.device(\"default.qubit\", num_qubits * 2 )\n",
    "\n",
    "# Implement a controlled unitary gate with specified control values and unitary matrix\n",
    "def controlledUnitary(unitary: np.ndarray, control_wires: list, control_values: list, target_wire: int):\n",
    "    \"\"\"    \n",
    "    Precondition:\n",
    "    - len(control_wires) == len(control_values)\n",
    "    \"\"\"\n",
    "    \n",
    "    if len(control_wires) != len(control_values):\n",
    "        raise IndexError\n",
    "\n",
    "\n",
    "    for i in range(len(control_wires)):\n",
    "        if not control_values[i]:\n",
    "            qml.PauliX(control_wires[i])\n",
    "\n",
    "    qml.QubitUnitary(unitary, wires=control_wires + [target_wire])\n",
    "\n",
    "    for i in range(len(control_wires)):\n",
    "        if not control_values[i]:\n",
    "            qml.PauliX(control_wires[i])"
   ]
  },
  {
   "cell_type": "markdown",
   "id": "fbaa53a5-cd3a-4982-9998-5f2fad46380c",
   "metadata": {},
   "source": [
    "### Defining the Kinetic Energy Operators\n",
    "(as outlined in the attached PDF section 3.3)"
   ]
  },
  {
   "cell_type": "code",
   "execution_count": 14,
   "id": "137c9aa7-1013-4fdc-9a5e-fe11c94a1d76",
   "metadata": {},
   "outputs": [],
   "source": [
    "# Function to be applied while building unitary [f(2k) and f(2k + 1)]\n",
    "def kinetic_function(k):\n",
    "    return k**2\n",
    " \n",
    "\n",
    "def kinetic_energy_operator(dt):\n",
    "\n",
    "    # Apply QFT to both sets of qubits for each particle\n",
    "    qml.QFT(range(num_qubits, 2*num_qubits))\n",
    "    qml.QFT(range(num_qubits))\n",
    "\n",
    "    # Iterate over one set of qubits and apply the controlled unitary gates for each particle separately (since they have the same unitaries)\n",
    "    for i in range(2 ** (num_qubits - 1)):\n",
    "        ## Get the control values\n",
    "        binary_str = format(i, '0' + str(num_qubits - 1) + 'b')\n",
    "\n",
    "        # Build the unitary to apply\n",
    "        diagonal = np.ndarray((2 ** num_qubits,), dtype=complex)\n",
    "        for d in range(len(diagonal)):\n",
    "            diagonal[d] = 1\n",
    "        diagonal[-2] = np.exp(- 1j * dt * kinetic_function(2 * i))\n",
    "        diagonal[-1] = np.exp(- 1j * dt * kinetic_function(2 * i + 1))\n",
    "\n",
    "        # Apply the controlled unitaries\n",
    "        controlledUnitary(np.diag(diagonal), list(range(num_qubits - 1)), [int(j) for j in binary_str], num_qubits - 1)\n",
    "        controlledUnitary(np.diag(diagonal), list(range(num_qubits, 2 * num_qubits - 1)), [int(j) for j in binary_str], 2 * num_qubits - 1)\n",
    "\n",
    "    # Apply QFT^-1 to both sets of qubits for each particle\n",
    "    qml.adjoint(qml.QFT)(range(num_qubits))\n",
    "    qml.adjoint(qml.QFT)(range(num_qubits, 2 * num_qubits))"
   ]
  },
  {
   "cell_type": "markdown",
   "id": "45e68399-50ca-4025-913f-02d0ff2fd451",
   "metadata": {},
   "source": [
    "### Defining the Potential Energy Operators\n",
    "(as outlined in the attached PDF section 3.4)"
   ]
  },
  {
   "cell_type": "code",
   "execution_count": 15,
   "id": "df259a75-440f-411c-889b-bf1f3e59d0cb",
   "metadata": {},
   "outputs": [],
   "source": [
    "# Function to be applied while building unitary [f(x1, 2k) and f(x1, 2k + 1)]\n",
    "def potential_function(x1, x2):\n",
    "    # Apply potential if the particles are not in the same section\n",
    "    if x1 != x2:\n",
    "        return 50 * num_qubits * 2/abs(x1 - x2)\n",
    "\n",
    "    # Otherwise create a well for tunnelling (simulating the activation of strong force within this region around each particle)\n",
    "    return 0\n",
    "\n",
    "def potential_energy_operator(dt):\n",
    "    # Iterate over all x1\n",
    "    for x1 in range(2 ** num_qubits):\n",
    "        binary_str_x1 = format(x1, \"0\" + str(num_qubits) + \"b\")\n",
    "        # Iterate over all x2\n",
    "        for x2 in range(2 ** (num_qubits - 1)):\n",
    "            binary_str_x2 = format(x2, \"0\" + str(num_qubits - 1) + \"b\")\n",
    "\n",
    "            # Building the unitary\n",
    "            diagonal = np.ndarray((2 ** (2 * num_qubits),), dtype=complex)\n",
    "            for d in range(len(diagonal)):\n",
    "                diagonal[d] = 1\n",
    "            diagonal[-2] = np.exp(- 1j * dt * potential_function(x1, 2 * x2))\n",
    "            diagonal[-1] = np.exp(- 1j * dt * potential_function(x1, 2 * x2 + 1))\n",
    "\n",
    "            # Applying the controlled unitary\n",
    "            controlledUnitary(np.diag(diagonal), list(range(2 * num_qubits - 1)), [int(j) for j in (binary_str_x1 + binary_str_x2)], 2 * num_qubits - 1)"
   ]
  },
  {
   "cell_type": "markdown",
   "id": "6800e887-37e1-4300-9aa4-ee26122cb63f",
   "metadata": {},
   "source": [
    "### Defining the Hamiltonian\n",
    "Combining and applying the kinetic and potential energy operators on the circuit"
   ]
  },
  {
   "cell_type": "code",
   "execution_count": 16,
   "id": "d60320dc-17a1-4e39-a7d6-b0fa381ae0a8",
   "metadata": {},
   "outputs": [],
   "source": [
    "def hamiltonian(dt):\n",
    "    \n",
    "    kinetic_energy_operator(dt)\n",
    "    \n",
    "    potential_energy_operator(dt)\n",
    "\n",
    "\n",
    "@qml.qnode(dev)\n",
    "def tunnelling_circuit(dt, t):\n",
    "    # Start each particle at opposite ends of the space\n",
    "    starting_pos = np.zeros((2 * num_qubits,))\n",
    "    for i in range(num_qubits, 2 * num_qubits):\n",
    "        starting_pos[i] = 1\n",
    "        \n",
    "    qml.BasisState(starting_pos, wires=range(2 * num_qubits))\n",
    "\n",
    "    # Apply the hamiltonian repeatedly to simulate the time evolution of the hamiltonian\n",
    "    for i in range(t):\n",
    "        hamiltonian(dt)\n",
    "    return qml.probs()\n"
   ]
  },
  {
   "cell_type": "markdown",
   "id": "bee28739-fe60-4db2-b092-46c818df60a2",
   "metadata": {},
   "source": [
    "### Post processing and analysis of output\n",
    "Analysing the output of the simulation of the time evolution of the quantum system"
   ]
  },
  {
   "cell_type": "code",
   "execution_count": 17,
   "id": "1a446b52-15d7-4209-a633-dc22626d61e8",
   "metadata": {},
   "outputs": [],
   "source": [
    "particle_1_probabilities = []\n",
    "particle_2_probabilities = []\n",
    "tunnelling_probabilities = []\n",
    "\n",
    "for i in range(50):\n",
    "    results = tunnelling_circuit(1 / 50, i)\n",
    "\n",
    "    # Probabilities of each particle existing within a given distance interval at time t\n",
    "    particle_1_probabilities.append([sum([results[2 ** num_qubits * k + j].numpy() for j in range(2 ** num_qubits)]) for k in range(2 ** num_qubits)])\n",
    "    particle_2_probabilities.append([sum([results[2 ** num_qubits * j + k].numpy() for j in range(2 ** num_qubits)]) for k in range(2 ** num_qubits)])\n",
    "\n",
    "    # Tunnelling probabilities at each time t\n",
    "    tunnelling_probabilities.append(sum([sum(results[2 ** num_qubits * k + j].numpy() for j in range(2 ** num_qubits) if j == k) for k in range(2 ** num_qubits)]))\n"
   ]
  },
  {
   "cell_type": "code",
   "execution_count": 18,
   "id": "212af391-f3cd-42d4-b4ff-c02ef886bbfd",
   "metadata": {},
   "outputs": [
    {
     "data": {
      "text/plain": [
       "[0.0,\n",
       " 0.06574097101928214,\n",
       " 0.14966094270739844,\n",
       " 0.14593374784026536,\n",
       " 0.0954258513479453,\n",
       " 0.07049383096152724,\n",
       " 0.057584937335870896,\n",
       " 0.04920062639765453,\n",
       " 0.04362396376805937,\n",
       " 0.04905300934088897,\n",
       " 0.05232362751965962,\n",
       " 0.05510952429298676,\n",
       " 0.0779936368084499,\n",
       " 0.09037882055377601,\n",
       " 0.09095117530836602,\n",
       " 0.10667029607947379,\n",
       " 0.11554367179679459,\n",
       " 0.07727910957206584,\n",
       " 0.03359003060163048,\n",
       " 0.04645699715446948,\n",
       " 0.09327248432907423,\n",
       " 0.12798531391048004,\n",
       " 0.12665587690606125,\n",
       " 0.10836650152072688,\n",
       " 0.0800539258913711,\n",
       " 0.06325255605959614,\n",
       " 0.05856223600238754,\n",
       " 0.05869373354219557,\n",
       " 0.05638413352681243,\n",
       " 0.06888858797003768,\n",
       " 0.0756307387900431,\n",
       " 0.06752584032111429,\n",
       " 0.054085940099099394,\n",
       " 0.0690012478126253,\n",
       " 0.09041468761915508,\n",
       " 0.08170857968892675,\n",
       " 0.06366642592959279,\n",
       " 0.07641313639284777,\n",
       " 0.1035014342449898,\n",
       " 0.12260083462267875,\n",
       " 0.13387553462710985,\n",
       " 0.11755662607609152,\n",
       " 0.08763302670235741,\n",
       " 0.05629421973402771,\n",
       " 0.042201424754921946,\n",
       " 0.055989583940493706,\n",
       " 0.07109762364447741,\n",
       " 0.08754337843148781,\n",
       " 0.1087679829324826,\n",
       " 0.08873818358303762]"
      ]
     },
     "execution_count": 18,
     "metadata": {},
     "output_type": "execute_result"
    }
   ],
   "source": [
    "tunnelling_probabilities"
   ]
  },
  {
   "cell_type": "markdown",
   "id": "8ee1382c-3fe1-466b-ab1e-358e1eab42f4",
   "metadata": {},
   "source": [
    "### Plot the results of the simulation\n",
    "Plot the position probabilities of each particle as a grayscale plot where white corresponds to certain probability of particle in that distance interval whereas black indicates 0 probabilty of the particle being within that distance interval "
   ]
  },
  {
   "cell_type": "code",
   "execution_count": 19,
   "id": "ae73e204-806e-47d5-a746-f6293dcb8b0d",
   "metadata": {},
   "outputs": [
    {
     "data": {
      "image/png": "[encoded data removed]",
      "text/plain": [
       "<Figure size 640x480 with 1 Axes>"
      ]
     },
     "metadata": {},
     "output_type": "display_data"
    },
    {
     "data": {
      "image/png": "[encoded data removed]",
      "text/plain": [
       "<Figure size 640x480 with 1 Axes>"
      ]
     },
     "metadata": {},
     "output_type": "display_data"
    }
   ],
   "source": [
    "import matplotlib.pyplot as plt\n",
    "\n",
    "# plot\n",
    "fig1, ax1 = plt.subplots()\n",
    "fig2, ax2 = plt.subplots()\n",
    "\n",
    "## Plot both particle probabilities\n",
    "ax1.imshow(particle_1_probabilities, cmap=\"gray\")\n",
    "ax2.imshow(particle_2_probabilities, cmap=\"gray\")\n",
    "\n",
    "plt.show()"
   ]
  },
  {
   "cell_type": "code",
   "execution_count": null,
   "id": "31785473-887b-44c6-91aa-ba3303f64903",
   "metadata": {},
   "outputs": [],
   "source": []
  }
 ],
 "metadata": {
  "kernelspec": {
   "display_name": "Quantum Stuff (py3.11)",
   "language": "python",
   "name": "quantumenv"
  },
  "language_info": {
   "codemirror_mode": {
    "name": "ipython",
    "version": 3
   },
   "file_extension": ".py",
   "mimetype": "text/x-python",
   "name": "python",
   "nbconvert_exporter": "python",
   "pygments_lexer": "ipython3",
   "version": "3.11.5"
  }
 },
 "nbformat": 4,
 "nbformat_minor": 5
}
